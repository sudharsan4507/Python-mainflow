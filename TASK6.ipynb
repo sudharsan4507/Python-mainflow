{
 "cells": [
  {
   "cell_type": "markdown",
   "id": "c701a58c",
   "metadata": {},
   "source": [
    "# TASK 6"
   ]
  },
  {
   "cell_type": "markdown",
   "id": "924e8095",
   "metadata": {},
   "source": [
    "CODE 39 - Sudoku Validator"
   ]
  },
  {
   "cell_type": "code",
   "execution_count": 1,
   "id": "9a3e49dc",
   "metadata": {},
   "outputs": [
    {
     "name": "stdout",
     "output_type": "stream",
     "text": [
      "True\n"
     ]
    }
   ],
   "source": [
    "def is_valid_sudoku(board):\n",
    "    def is_valid_group(group):\n",
    "        nums = [num for num in group if num != \".\"]\n",
    "        return len(nums) == len(set(nums))\n",
    "\n",
    "    # Check rows\n",
    "    for row in board:\n",
    "        if not is_valid_group(row):\n",
    "            return False\n",
    "\n",
    "    # Check columns\n",
    "    for col in zip(*board):\n",
    "        if not is_valid_group(col):\n",
    "            return False\n",
    "\n",
    "    # Check 3x3 sub-grids\n",
    "    for row in range(0, 9, 3):\n",
    "        for col in range(0, 9, 3):\n",
    "            block = [\n",
    "                board[r][c]\n",
    "                for r in range(row, row + 3)\n",
    "                for c in range(col, col + 3)\n",
    "            ]\n",
    "            if not is_valid_group(block):\n",
    "                return False\n",
    "\n",
    "    return True\n",
    "\n",
    "\n",
    "sudoku_board = [\n",
    "    [\"5\", \"3\", \".\", \".\", \"7\", \".\", \".\", \".\", \".\"],\n",
    "    [\"6\", \".\", \".\", \"1\", \"9\", \"5\", \".\", \".\", \".\"],\n",
    "    [\".\", \"9\", \"8\", \".\", \".\", \".\", \".\", \"6\", \".\"],\n",
    "    [\"8\", \".\", \".\", \".\", \"6\", \".\", \".\", \".\", \"3\"],\n",
    "    [\"4\", \".\", \".\", \"8\", \".\", \"3\", \".\", \".\", \"1\"],\n",
    "    [\"7\", \".\", \".\", \".\", \"2\", \".\", \".\", \".\", \"6\"],\n",
    "    [\".\", \"6\", \".\", \".\", \".\", \".\", \"2\", \"8\", \".\"],\n",
    "    [\".\", \".\", \".\", \"4\", \"1\", \"9\", \".\", \".\", \"5\"],\n",
    "    [\".\", \".\", \".\", \".\", \"8\", \".\", \".\", \"7\", \"9\"]\n",
    "]\n",
    "\n",
    "print(is_valid_sudoku(sudoku_board))  # Output: True\n"
   ]
  },
  {
   "cell_type": "markdown",
   "id": "b11ba82f",
   "metadata": {},
   "source": [
    "CODE 40 - Word Frequency in Text"
   ]
  },
  {
   "cell_type": "code",
   "execution_count": 2,
   "id": "a43f6272",
   "metadata": {},
   "outputs": [
    {
     "name": "stdout",
     "output_type": "stream",
     "text": [
      "{'hello': 2, 'world': 1, 'openai': 1, 'this': 1, 'is': 1, 'a': 2, 'test': 2, 'simple': 1}\n"
     ]
    }
   ],
   "source": [
    "def word_frequency(text):\n",
    "    word_counts = {}\n",
    "    words = text.lower().split()\n",
    "\n",
    "    for word in words:\n",
    "        # Optional: remove punctuation\n",
    "        word = ''.join(char for char in word if char.isalnum())\n",
    "\n",
    "        if word:\n",
    "            word_counts[word] = word_counts.get(word, 0) + 1\n",
    "\n",
    "    return word_counts\n",
    "\n",
    "\n",
    "text = \"Hello world! Hello, OpenAI. This is a test. A simple test.\"\n",
    "freq = word_frequency(text)\n",
    "print(freq)\n"
   ]
  },
  {
   "cell_type": "markdown",
   "id": "6bb3b8fc",
   "metadata": {},
   "source": [
    "CODE 41 -  Knapsack Problem (0/1)"
   ]
  },
  {
   "cell_type": "code",
   "execution_count": 3,
   "id": "83114e7c",
   "metadata": {},
   "outputs": [
    {
     "name": "stdout",
     "output_type": "stream",
     "text": [
      "7\n"
     ]
    }
   ],
   "source": [
    "def knapsack_01(weights, values, capacity):\n",
    "    n = len(weights)\n",
    "    dp = [[0] * (capacity + 1) for _ in range(n + 1)]\n",
    "\n",
    "    # Build DP table\n",
    "    for i in range(1, n + 1):\n",
    "        for w in range(capacity + 1):\n",
    "            if weights[i - 1] <= w:\n",
    "                # Max of including or excluding the item\n",
    "                dp[i][w] = max(dp[i - 1][w], dp[i - 1][w - weights[i - 1]] + values[i - 1])\n",
    "            else:\n",
    "                # Can't include the item\n",
    "                dp[i][w] = dp[i - 1][w]\n",
    "\n",
    "    return dp[n][capacity]\n",
    "\n",
    "weights = [2, 3, 4, 5]\n",
    "values = [3, 4, 5, 6]\n",
    "capacity = 5\n",
    "\n",
    "print(knapsack_01(weights, values, capacity))  # Output: 7\n"
   ]
  },
  {
   "cell_type": "markdown",
   "id": "97d6b219",
   "metadata": {},
   "source": [
    "CODE 42 - Merge Intervals"
   ]
  },
  {
   "cell_type": "code",
   "execution_count": 4,
   "id": "13bd7949",
   "metadata": {},
   "outputs": [
    {
     "name": "stdout",
     "output_type": "stream",
     "text": [
      "[[1, 6], [8, 10], [15, 18]]\n"
     ]
    }
   ],
   "source": [
    "def merge_intervals(intervals):\n",
    "    if not intervals:\n",
    "        return []\n",
    "\n",
    "    # Step 1: Sort intervals by start time\n",
    "    intervals.sort(key=lambda x: x[0])\n",
    "\n",
    "    merged = [intervals[0]]\n",
    "\n",
    "    # Step 2: Merge overlapping intervals\n",
    "    for current in intervals[1:]:\n",
    "        last = merged[-1]\n",
    "        if current[0] <= last[1]:  # Overlap condition\n",
    "            # Merge intervals\n",
    "            last[1] = max(last[1], current[1])\n",
    "        else:\n",
    "            # No overlap, add to result\n",
    "            merged.append(current)\n",
    "\n",
    "    return merged\n",
    "\n",
    "\n",
    "intervals = [[1, 3], [2, 6], [8, 10], [15, 18]]\n",
    "print(merge_intervals(intervals))  # Output: [[1, 6], [8, 10], [15, 18]]\n"
   ]
  },
  {
   "cell_type": "markdown",
   "id": "6be52a7f",
   "metadata": {},
   "source": [
    "CODE 43 - Find the Median of Two Sorted Arrays"
   ]
  },
  {
   "cell_type": "code",
   "execution_count": 7,
   "id": "46cf51a4",
   "metadata": {},
   "outputs": [
    {
     "name": "stdout",
     "output_type": "stream",
     "text": [
      "2\n"
     ]
    }
   ],
   "source": [
    "def find_median_sorted_arrays(nums1, nums2):\n",
    "    merged = sorted(nums1 + nums2)\n",
    "    n = len(merged)\n",
    "    \n",
    "    if n % 2 == 1:\n",
    "        return merged[n // 2]  # Middle element\n",
    "    \n",
    "nums1 = [1, 3]\n",
    "nums2 = [2]\n",
    "print(find_median_sorted_arrays(nums1, nums2))  # Output: 2\n",
    "\n",
    "\n"
   ]
  },
  {
   "cell_type": "markdown",
   "id": "29491b65",
   "metadata": {},
   "source": [
    "CODE 44 - Maximal Rectangle in Binary Matrix"
   ]
  },
  {
   "cell_type": "code",
   "execution_count": 8,
   "id": "f31f148c",
   "metadata": {},
   "outputs": [
    {
     "name": "stdout",
     "output_type": "stream",
     "text": [
      "6\n"
     ]
    }
   ],
   "source": [
    "def maximal_rectangle(matrix):\n",
    "    if not matrix or not matrix[0]:\n",
    "        return 0\n",
    "\n",
    "    def largest_rectangle_area(heights):\n",
    "        stack = []\n",
    "        max_area = 0\n",
    "        heights.append(0)  # Add sentinel\n",
    "\n",
    "        for i, h in enumerate(heights):\n",
    "            while stack and h < heights[stack[-1]]:\n",
    "                height = heights[stack.pop()]\n",
    "                width = i if not stack else i - stack[-1] - 1\n",
    "                max_area = max(max_area, height * width)\n",
    "            stack.append(i)\n",
    "\n",
    "        heights.pop()  # Remove sentinel\n",
    "        return max_area\n",
    "\n",
    "    max_area = 0\n",
    "    cols = len(matrix[0])\n",
    "    height = [0] * cols\n",
    "\n",
    "    for row in matrix:\n",
    "        for i in range(cols):\n",
    "            height[i] = height[i] + 1 if row[i] == '1' else 0\n",
    "        max_area = max(max_area, largest_rectangle_area(height))\n",
    "\n",
    "    return max_area\n",
    "\n",
    "\n",
    "matrix = [\n",
    "    [\"1\", \"0\", \"1\", \"0\", \"0\"],\n",
    "    [\"1\", \"0\", \"1\", \"1\", \"1\"],\n",
    "    [\"1\", \"1\", \"1\", \"1\", \"1\"],\n",
    "    [\"1\", \"0\", \"0\", \"1\", \"0\"]\n",
    "]\n",
    "\n",
    "print(maximal_rectangle(matrix))  # Output: 6\n"
   ]
  },
  {
   "cell_type": "markdown",
   "id": "abbf3fb8",
   "metadata": {},
   "source": [
    "CODE 45 - Largest Sum Contiguous Subarray (Kadane's Algorithm)"
   ]
  },
  {
   "cell_type": "code",
   "execution_count": 9,
   "id": "246e2085",
   "metadata": {},
   "outputs": [
    {
     "name": "stdout",
     "output_type": "stream",
     "text": [
      "6\n"
     ]
    }
   ],
   "source": [
    "def max_subarray_sum(nums):\n",
    "    max_current = max_global = nums[0]\n",
    "\n",
    "    for num in nums[1:]:\n",
    "        max_current = max(num, max_current + num)\n",
    "        max_global = max(max_global, max_current)\n",
    "\n",
    "    return max_global\n",
    "\n",
    "\n",
    "nums = [-2, 1, -3, 4, -1, 2, 1, -5, 4]\n",
    "print(max_subarray_sum(nums))  # Output: 6\n"
   ]
  },
  {
   "cell_type": "markdown",
   "id": "addc91c9",
   "metadata": {},
   "source": [
    "CODE 46 - Word Ladder Problem"
   ]
  },
  {
   "cell_type": "code",
   "execution_count": 10,
   "id": "f6fbc2bc",
   "metadata": {},
   "outputs": [
    {
     "name": "stdout",
     "output_type": "stream",
     "text": [
      "5\n"
     ]
    }
   ],
   "source": [
    "from collections import deque\n",
    "\n",
    "def word_ladder_length(begin_word, end_word, word_list):\n",
    "    word_set = set(word_list)\n",
    "    if end_word not in word_set:\n",
    "        return 0\n",
    "\n",
    "    queue = deque([(begin_word, 1)])\n",
    "\n",
    "    while queue:\n",
    "        current_word, steps = queue.popleft()\n",
    "\n",
    "        if current_word == end_word:\n",
    "            return steps\n",
    "\n",
    "        # Try all possible one-letter transformations\n",
    "        for i in range(len(current_word)):\n",
    "            for c in 'abcdefghijklmnopqrstuvwxyz':\n",
    "                next_word = current_word[:i] + c + current_word[i+1:]\n",
    "                if next_word in word_set:\n",
    "                    queue.append((next_word, steps + 1))\n",
    "                    word_set.remove(next_word)  #\n",
    "\n",
    "begin = \"hit\"\n",
    "end = \"cog\"\n",
    "dictionary = [\"hot\", \"dot\", \"dog\", \"lot\", \"log\", \"cog\"]\n",
    "\n",
    "print(word_ladder_length(begin, end, dictionary))  # Output: 5\n"
   ]
  },
  {
   "cell_type": "markdown",
   "id": "79dd7ad5",
   "metadata": {},
   "source": [
    "# Command-Line RPG Game"
   ]
  },
  {
   "cell_type": "code",
   "execution_count": 4,
   "id": "a8e293cb",
   "metadata": {},
   "outputs": [
    {
     "name": "stdout",
     "output_type": "stream",
     "text": [
      "Welcome to the RPG Game!\n"
     ]
    },
    {
     "name": "stdout",
     "output_type": "stream",
     "text": [
      "You are at: Town\n",
      "\n",
      "What would you like to do?\n",
      "A wild Goblin appears!\n",
      "\n",
      "LEKHANSH: 100 HP  |  Goblin: 30 HP\n",
      "LEKHANSH attacks Goblin!\n",
      "Goblin attacks LEKHANSH!\n",
      "\n",
      "LEKHANSH: 100 HP  |  Goblin: 22 HP\n",
      "Item not found.\n",
      "Goblin attacks LEKHANSH!\n",
      "\n",
      "LEKHANSH: 100 HP  |  Goblin: 22 HP\n",
      "LEKHANSH attacks Goblin!\n",
      "Goblin attacks LEKHANSH!\n",
      "\n",
      "LEKHANSH: 100 HP  |  Goblin: 14 HP\n",
      "LEKHANSH attacks Goblin!\n",
      "Goblin attacks LEKHANSH!\n",
      "\n",
      "LEKHANSH: 100 HP  |  Goblin: 6 HP\n",
      "LEKHANSH attacks Goblin!\n",
      "You defeated the Goblin!\n",
      "You are at: Town\n",
      "\n",
      "What would you like to do?\n",
      "Game Over!\n"
     ]
    }
   ],
   "source": [
    "import json\n",
    "from collections import deque\n",
    "\n",
    "\n",
    "# === Character Class ===\n",
    "class Character:\n",
    "    def __init__(self, name, health, attack, defense):\n",
    "        self.name = name\n",
    "        self.health = health\n",
    "        self.attack = attack\n",
    "        self.defense = defense\n",
    "\n",
    "    def is_alive(self):\n",
    "        return self.health > 0\n",
    "\n",
    "    def take_damage(self, damage):\n",
    "        self.health -= max(damage - self.defense, 0)\n",
    "\n",
    "    def attack_target(self, target):\n",
    "        print(f\"{self.name} attacks {target.name}!\")\n",
    "        target.take_damage(self.attack)\n",
    "\n",
    "\n",
    "# === Player Class ===\n",
    "class Player(Character):\n",
    "    def __init__(self, name):\n",
    "        super().__init__(name, health=100, attack=10, defense=5)\n",
    "        self.inventory = []\n",
    "\n",
    "    def use_item(self, item_name):\n",
    "        for item in self.inventory:\n",
    "            if item.name == item_name:\n",
    "                item.effect(self)  # Apply item's effect\n",
    "                self.inventory.remove(item)\n",
    "                print(f\"You used {item.name}!\")\n",
    "                return\n",
    "        print(\"Item not found.\")\n",
    "\n",
    "\n",
    "# === Enemy Class ===\n",
    "class Enemy(Character):\n",
    "    pass\n",
    "\n",
    "\n",
    "# === Item Class ===\n",
    "class Item:\n",
    "    def __init__(self, name, effect):\n",
    "        self.name = name\n",
    "        self.effect = effect  # function to apply the item effect\n",
    "\n",
    "\n",
    "# === Map Class ===\n",
    "class Map:\n",
    "    def __init__(self):\n",
    "        self.grid = [\n",
    "            [\"Town\", \"Forest\", \"Cave\"],\n",
    "            [\"Lake\", \"Mountain\", \"Ruins\"]\n",
    "        ]\n",
    "        self.player_position = [0, 0]\n",
    "\n",
    "    def display_location(self):\n",
    "        x, y = self.player_position\n",
    "        print(f\"You are at: {self.grid[x][y]}\")\n",
    "\n",
    "    def move(self, direction):\n",
    "        x, y = self.player_position\n",
    "        if direction == \"up\" and x > 0:\n",
    "            self.player_position[0] -= 1\n",
    "        elif direction == \"down\" and x < len(self.grid) - 1:\n",
    "            self.player_position[0] += 1\n",
    "        elif direction == \"left\" and y > 0:\n",
    "            self.player_position[1] -= 1\n",
    "        elif direction == \"right\" and y < len(self.grid[0]) - 1:\n",
    "            self.player_position[1] += 1\n",
    "        else:\n",
    "            print(\"You can't move in that direction.\")\n",
    "        self.display_location()\n",
    "\n",
    "\n",
    "# === Combat Function ===\n",
    "def combat(player, enemy):\n",
    "    print(f\"A wild {enemy.name} appears!\")\n",
    "    while player.is_alive() and enemy.is_alive():\n",
    "        print(f\"\\n{player.name}: {player.health} HP  |  {enemy.name}: {enemy.health} HP\")\n",
    "        action = input(\"Choose action: (attack / use item): \").lower()\n",
    "        \n",
    "        if action == \"attack\":\n",
    "            player.attack_target(enemy)\n",
    "            if enemy.is_alive():\n",
    "                enemy.attack_target(player)\n",
    "        elif action == \"use item\":\n",
    "            item_name = input(\"Enter item name: \")\n",
    "            player.use_item(item_name)\n",
    "            if enemy.is_alive():\n",
    "                enemy.attack_target(player)\n",
    "        else:\n",
    "            print(\"Invalid action. You lost your turn!\")\n",
    "\n",
    "    if player.is_alive():\n",
    "        print(f\"You defeated the {enemy.name}!\")\n",
    "    else:\n",
    "        print(\"You were defeated!\")\n",
    "\n",
    "\n",
    "# === Save Game Function ===\n",
    "def save_game(player, map_obj):\n",
    "    game_data = {\n",
    "        'player': {\n",
    "            'name': player.name,\n",
    "            'health': player.health,\n",
    "            'attack': player.attack,\n",
    "            'defense': player.defense,\n",
    "            'inventory': [item.name for item in player.inventory]\n",
    "        },\n",
    "        'position': map_obj.player_position\n",
    "    }\n",
    "    with open(\"savefile.json\", \"w\") as f:\n",
    "        json.dump(game_data, f)\n",
    "    print(\"Game saved!\")\n",
    "\n",
    "\n",
    "# === Load Game Function ===\n",
    "def load_game():\n",
    "    with open(\"savefile.json\", \"r\") as f:\n",
    "        data = json.load(f)\n",
    "    \n",
    "    player = Player(data['player']['name'])\n",
    "    player.health = data['player']['health']\n",
    "    player.attack = data['player']['attack']\n",
    "    player.defense = data['player']['defense']\n",
    "    \n",
    "    # Loading items into player's inventory\n",
    "    for item_name in data['player']['inventory']:\n",
    "        if item_name == \"Health Potion\":\n",
    "            player.inventory.append(Item(\"Health Potion\", heal_effect))\n",
    "    \n",
    "    map_obj = Map()\n",
    "    map_obj.player_position = data['position']\n",
    "    \n",
    "    print(\"Game loaded!\")\n",
    "    return player, map_obj\n",
    "\n",
    "\n",
    "# === Heal Effect for Item ===\n",
    "def heal_effect(player):\n",
    "    player.health += 20\n",
    "    print(\"You feel rejuvenated! (+20 HP)\")\n",
    "\n",
    "\n",
    "# === Main Game Loop ===\n",
    "def game_loop():\n",
    "    print(\"Welcome to the RPG Game!\")\n",
    "    name = input(\"Enter your character's name: \")\n",
    "    player = Player(name)\n",
    "    map_obj = Map()\n",
    "\n",
    "    # Adding some items to the inventory\n",
    "    player.inventory.append(Item(\"Health Potion\", heal_effect))\n",
    "\n",
    "    while player.is_alive():\n",
    "        map_obj.display_location()\n",
    "        print(\"\\nWhat would you like to do?\")\n",
    "        action = input(\"(explore, move, inventory, save, load, quit): \").lower()\n",
    "\n",
    "        if action == \"explore\":\n",
    "            enemy = Enemy(\"Goblin\", 30, 5, 2)\n",
    "            combat(player, enemy)\n",
    "        elif action == \"move\":\n",
    "            direction = input(\"Where do you want to go? (up, down, left, right): \").lower()\n",
    "            map_obj.move(direction)\n",
    "        elif action == \"inventory\":\n",
    "            print(\"Your inventory:\", [item.name for item in player.inventory])\n",
    "        elif action == \"save\":\n",
    "            save_game(player, map_obj)\n",
    "        elif action == \"load\":\n",
    "            player, map_obj = load_game()\n",
    "        elif action == \"quit\":\n",
    "            break\n",
    "        else:\n",
    "            print(\"Invalid action. Please try again.\")\n",
    "\n",
    "    print(\"Game Over!\")\n",
    "\n",
    "# Run the game\n",
    "if __name__ == \"__main__\":\n",
    "    game_loop()\n"
   ]
  }
 ],
 "metadata": {
  "kernelspec": {
   "display_name": "Python 3",
   "language": "python",
   "name": "python3"
  },
  "language_info": {
   "codemirror_mode": {
    "name": "ipython",
    "version": 3
   },
   "file_extension": ".py",
   "mimetype": "text/x-python",
   "name": "python",
   "nbconvert_exporter": "python",
   "pygments_lexer": "ipython3",
   "version": "3.12.1"
  }
 },
 "nbformat": 4,
 "nbformat_minor": 5
}
