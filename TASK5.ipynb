{
 "cells": [
  {
   "cell_type": "markdown",
   "id": "b0ad0215",
   "metadata": {},
   "source": [
    "# TASK 5"
   ]
  },
  {
   "cell_type": "markdown",
   "id": "8e8a8c96",
   "metadata": {},
   "source": [
    "CODE 33 - Find All Permutations of a String"
   ]
  },
  {
   "cell_type": "code",
   "execution_count": 1,
   "id": "24b5f394",
   "metadata": {},
   "outputs": [
    {
     "name": "stdout",
     "output_type": "stream",
     "text": [
      "⚙️ itertools.permutations of 'DOG':\n",
      "['DOG', 'DGO', 'ODG', 'OGD', 'GDO', 'GOD']\n"
     ]
    }
   ],
   "source": [
    "#  Using itertools.permutations\n",
    "\n",
    "from itertools import permutations\n",
    "\n",
    "def itertools_permutations(s):\n",
    "    return [''.join(p) for p in permutations(s)]\n",
    "\n",
    "# Example usage of itertools method\n",
    "input_str_2 = \"DOG\"\n",
    "print(f\"⚙️ itertools.permutations of '{input_str_2}':\")\n",
    "print(itertools_permutations(input_str_2))\n"
   ]
  },
  {
   "cell_type": "markdown",
   "id": "ac777fe8",
   "metadata": {},
   "source": [
    "CODE 34 - N-th Fibonacci Number (Dynamic Programming)"
   ]
  },
  {
   "cell_type": "code",
   "execution_count": 2,
   "id": "4a8eafe9",
   "metadata": {},
   "outputs": [
    {
     "name": "stdout",
     "output_type": "stream",
     "text": [
      "The 10-th Fibonacci number is: 55\n"
     ]
    }
   ],
   "source": [
    "# Function to find the N-th Fibonacci number using bottom-up DP\n",
    "\n",
    "def fibonacci_dp(n):\n",
    "    if n <= 0:\n",
    "        return 0\n",
    "    elif n == 1:\n",
    "        return 1\n",
    "\n",
    "    # Create a memoization array to store results\n",
    "    fib = [0] * (n + 1)\n",
    "    fib[1] = 1\n",
    "\n",
    "    # Build the Fibonacci sequence bottom-up\n",
    "    for i in range(2, n + 1):\n",
    "        fib[i] = fib[i - 1] + fib[i - 2]\n",
    "\n",
    "    return fib[n]\n",
    "\n",
    "\n",
    "#  example\n",
    "\n",
    "n_example = 10\n",
    "print(f\"The {n_example}-th Fibonacci number is:\", fibonacci_dp(n_example))\n",
    "\n"
   ]
  },
  {
   "cell_type": "markdown",
   "id": "4c409a32",
   "metadata": {},
   "source": [
    "CODE 35 - Find Duplicates in a List"
   ]
  },
  {
   "cell_type": "code",
   "execution_count": 6,
   "id": "11835603",
   "metadata": {},
   "outputs": [
    {
     "name": "stdout",
     "output_type": "stream",
     "text": [
      "Original list: [1, 3, 5, 2, 3, 1, 7, 9, 5]\n",
      "Duplicates using dictionary method: [1, 3, 5]\n",
      "Duplicates using Counter method: [1, 3, 5]\n"
     ]
    }
   ],
   "source": [
    "#  Using dictionary to count occurrences\n",
    "\n",
    "def find_duplicates_dict(lst):\n",
    "    freq = {}\n",
    "    duplicates = []\n",
    "    for num in lst:\n",
    "        if num in freq:\n",
    "            freq[num] += 1\n",
    "        else:\n",
    "            freq[num] = 1\n",
    "    for num, count in freq.items():\n",
    "        if count > 1:\n",
    "            duplicates.append(num)\n",
    "    return duplicates\n",
    "\n",
    "#  Example\n",
    "\n",
    "example_list = [1, 3, 5, 2, 3, 1, 7, 9, 5]\n",
    "print(\"Original list:\", example_list)\n",
    "\n",
    "print(\"Duplicates using dictionary method:\", find_duplicates_dict(example_list))\n",
    "print(\"Duplicates using Counter method:\", find_duplicates_counter(example_list))\n"
   ]
  },
  {
   "cell_type": "markdown",
   "id": "94779413",
   "metadata": {},
   "source": [
    "CODE 36 -  Longest Increasing Subsequence (LIS)"
   ]
  },
  {
   "cell_type": "code",
   "execution_count": 7,
   "id": "15e07af9",
   "metadata": {},
   "outputs": [
    {
     "name": "stdout",
     "output_type": "stream",
     "text": [
      "Input array: [10, 9, 2, 5, 3, 7, 101, 18]\n",
      "Length of Longest Increasing Subsequence: 4\n"
     ]
    }
   ],
   "source": [
    "# Function to compute the length of LIS using DP (O(n^2) approach)\n",
    "\n",
    "def length_of_LIS(nums):\n",
    "    if not nums:\n",
    "        return 0\n",
    "\n",
    "    # Create an array to store the LIS ending at each index\n",
    "    dp = [1] * len(nums)\n",
    "\n",
    "    # Fill the dp array\n",
    "    for i in range(1, len(nums)):\n",
    "        for j in range(i):\n",
    "            if nums[i] > nums[j]:\n",
    "                dp[i] = max(dp[i], dp[j] + 1)\n",
    "\n",
    "    return max(dp)\n",
    "\n",
    "# Example\n",
    "\n",
    "example_array = [10, 9, 2, 5, 3, 7, 101, 18]\n",
    "print(\"Input array:\", example_array)\n",
    "print(\"Length of Longest Increasing Subsequence:\", length_of_LIS(example_array))\n"
   ]
  },
  {
   "cell_type": "markdown",
   "id": "555420cb",
   "metadata": {},
   "source": [
    "CODE 37 - Find K Largest Elements"
   ]
  },
  {
   "cell_type": "code",
   "execution_count": 9,
   "id": "7cbfe168",
   "metadata": {},
   "outputs": [
    {
     "name": "stdout",
     "output_type": "stream",
     "text": [
      "Original list: [4, 1, 7, 3, 9, 2, 8]\n",
      "3 largest elements using sorting: [9, 8, 7]\n",
      "3 largest elements using heap: [9, 8, 7]\n"
     ]
    }
   ],
   "source": [
    "#  Using sorting (simple)\n",
    "\n",
    "def k_largest_sort(arr, k):\n",
    "    return sorted(arr, reverse=True)[:k]\n",
    "\n",
    "# EXAMPLE\n",
    "\n",
    "example_list = [4, 1, 7, 3, 9, 2, 8]\n",
    "k_example = 3\n",
    "\n",
    "print(\"Original list:\", example_list)\n",
    "print(f\"{k_example} largest elements using sorting:\", k_largest_sort(example_list, k_example))\n",
    "print(f\"{k_example} largest elements using heap:\", k_largest_heap(example_list, k_example))\n",
    "\n"
   ]
  },
  {
   "cell_type": "markdown",
   "id": "1202c66f",
   "metadata": {},
   "source": [
    "CODE 38 -  Rotate Matrix"
   ]
  },
  {
   "cell_type": "code",
   "execution_count": 10,
   "id": "710cd0e9",
   "metadata": {},
   "outputs": [
    {
     "name": "stdout",
     "output_type": "stream",
     "text": [
      "Original matrix:\n",
      "[1, 2, 3]\n",
      "[4, 5, 6]\n",
      "[7, 8, 9]\n",
      "\n",
      "Rotated matrix (90° clockwise):\n",
      "[7, 4, 1]\n",
      "[8, 5, 2]\n",
      "[9, 6, 3]\n"
     ]
    }
   ],
   "source": [
    "#  Function to rotate a matrix 90 degrees clockwise\n",
    "\n",
    "def rotate_matrix_90_clockwise(matrix):\n",
    "    # Step 1: Transpose the matrix\n",
    "    transposed = list(zip(*matrix))\n",
    "    \n",
    "    # Step 2: Reverse each row to get the rotated matrix\n",
    "    rotated = [list(row)[::-1] for row in transposed]\n",
    "    \n",
    "    return rotated\n",
    "\n",
    "\n",
    "# Example\n",
    "\n",
    "example_matrix = [\n",
    "    [1, 2, 3],\n",
    "    [4, 5, 6],\n",
    "    [7, 8, 9]\n",
    "]\n",
    "\n",
    "print(\"Original matrix:\")\n",
    "for row in example_matrix:\n",
    "    print(row)\n",
    "\n",
    "rotated_matrix = rotate_matrix_90_clockwise(example_matrix)\n",
    "\n",
    "print(\"\\nRotated matrix (90° clockwise):\")\n",
    "for row in rotated_matrix:\n",
    "    print(row)\n"
   ]
  },
  {
   "cell_type": "markdown",
   "id": "2e6cbfc7",
   "metadata": {},
   "source": [
    "CODE 39 -  Sudoku Validator"
   ]
  },
  {
   "cell_type": "code",
   "execution_count": 11,
   "id": "825d668d",
   "metadata": {},
   "outputs": [
    {
     "name": "stdout",
     "output_type": "stream",
     "text": [
      "Is the Sudoku board valid? True\n"
     ]
    }
   ],
   "source": [
    "# Function to validate a Sudoku board\n",
    "\n",
    "def is_valid_sudoku(board):\n",
    "    def is_valid_unit(unit):\n",
    "        nums = [n for n in unit if n != '.' and n != 0]\n",
    "        return len(nums) == len(set(nums))\n",
    "    \n",
    "    # Check rows\n",
    "    for row in board:\n",
    "        if not is_valid_unit(row):\n",
    "            return False\n",
    "\n",
    "    # Check columns\n",
    "    for col in zip(*board):\n",
    "        if not is_valid_unit(col):\n",
    "            return False\n",
    "\n",
    "    # Check 3x3 subgrids\n",
    "    for box_row in range(0, 9, 3):\n",
    "        for box_col in range(0, 9, 3):\n",
    "            box = [\n",
    "                board[r][c]\n",
    "                for r in range(box_row, box_row + 3)\n",
    "                for c in range(box_col, box_col + 3)\n",
    "            ]\n",
    "            if not is_valid_unit(box):\n",
    "                return False\n",
    "\n",
    "    return True\n",
    "\n",
    "\n",
    "# Inbuilt Example Board (valid)\n",
    "\n",
    "valid_board = [\n",
    "    [5, 3, '.', '.', 7, '.', '.', '.', '.'],\n",
    "    [6, '.', '.', 1, 9, 5, '.', '.', '.'],\n",
    "    ['.', 9, 8, '.', '.', '.', '.', 6, '.'],\n",
    "    [8, '.', '.', '.', 6, '.', '.', '.', 3],\n",
    "    [4, '.', '.', 8, '.', 3, '.', '.', 1],\n",
    "    [7, '.', '.', '.', 2, '.', '.', '.', 6],\n",
    "    ['.', 6, '.', '.', '.', '.', 2, 8, '.'],\n",
    "    ['.', '.', '.', 4, 1, 9, '.', '.', 5],\n",
    "    ['.', '.', '.', '.', 8, '.', '.', 7, 9]\n",
    "]\n",
    "\n",
    "print(\"Is the Sudoku board valid?\", is_valid_sudoku(valid_board))\n"
   ]
  },
  {
   "cell_type": "markdown",
   "id": "dcac8ca5",
   "metadata": {},
   "source": [
    "Virtual Stock Market Simulator"
   ]
  },
  {
   "cell_type": "code",
   "execution_count": 14,
   "id": "949fbd72",
   "metadata": {},
   "outputs": [
    {
     "name": "stdout",
     "output_type": "stream",
     "text": [
      "📢 Welcome to the Virtual Stock Market Simulator!\n",
      "\n",
      "📈 Current Market Prices\n",
      " - AAPL: $150.00\n",
      " - GOOGL: $2800.00\n",
      " - TSLA: $700.00\n",
      "✅ Bought 10 of AAPL at $146.12\n",
      "✅ Sold 5 of AAPL at $150.79\n",
      "\n",
      "📊 Portfolio Summary\n",
      "Cash Balance: $9292.75\n",
      "Holdings:\n",
      " - AAPL: 5 shares @ $150.79 = $753.95\n",
      "\n",
      "📋 Transactions:\n",
      "• ✅ Bought 10 of AAPL at $146.12\n",
      "• ✅ Sold 5 of AAPL at $150.79\n"
     ]
    }
   ],
   "source": [
    "import random\n",
    "\n",
    "# ---------------------- Initialize Stocks and Portfolio ----------------------\n",
    "stocks = {\n",
    "    \"AAPL\": {\"price\": 150.0, \"history\": []},\n",
    "    \"GOOGL\": {\"price\": 2800.0, \"history\": []},\n",
    "    \"TSLA\": {\"price\": 700.0, \"history\": []}\n",
    "}\n",
    "\n",
    "portfolio = {\n",
    "    \"cash\": 10000.0,\n",
    "    \"holdings\": {},\n",
    "    \"transactions\": []\n",
    "}\n",
    "\n",
    "# ---------------------- Stock Market Functions ----------------------\n",
    "def update_prices():\n",
    "    \"\"\"Randomly update stock prices to simulate market movement.\"\"\"\n",
    "    for stock in stocks:\n",
    "        change = random.uniform(-5, 5)  # simulate daily price fluctuation\n",
    "        stocks[stock][\"price\"] = round(max(1, stocks[stock][\"price\"] + change), 2)\n",
    "        stocks[stock][\"history\"].append(stocks[stock][\"price\"])\n",
    "\n",
    "def buy_stock(symbol, quantity):\n",
    "    if symbol not in stocks:\n",
    "        print(\"❌ Invalid stock symbol.\")\n",
    "        return\n",
    "    cost = stocks[symbol][\"price\"] * quantity\n",
    "    if cost > portfolio[\"cash\"]:\n",
    "        print(\"❌ Not enough cash to complete the purchase.\")\n",
    "        return\n",
    "    portfolio[\"cash\"] -= cost\n",
    "    portfolio[\"holdings\"][symbol] = portfolio[\"holdings\"].get(symbol, 0) + quantity\n",
    "    portfolio[\"transactions\"].append(f\"✅ Bought {quantity} of {symbol} at ${stocks[symbol]['price']}\")\n",
    "    print(f\"✅ Bought {quantity} of {symbol} at ${stocks[symbol]['price']}\")\n",
    "\n",
    "def sell_stock(symbol, quantity):\n",
    "    if portfolio[\"holdings\"].get(symbol, 0) < quantity:\n",
    "        print(\"❌ Not enough shares to sell.\")\n",
    "        return\n",
    "    proceeds = stocks[symbol][\"price\"] * quantity\n",
    "    portfolio[\"cash\"] += proceeds\n",
    "    portfolio[\"holdings\"][symbol] -= quantity\n",
    "    portfolio[\"transactions\"].append(f\"✅ Sold {quantity} of {symbol} at ${stocks[symbol]['price']}\")\n",
    "    print(f\"✅ Sold {quantity} of {symbol} at ${stocks[symbol]['price']}\")\n",
    "\n",
    "def view_portfolio():\n",
    "    print(\"\\n📊 Portfolio Summary\")\n",
    "    print(f\"Cash Balance: ${portfolio['cash']:.2f}\")\n",
    "    print(\"Holdings:\")\n",
    "    for stock, qty in portfolio[\"holdings\"].items():\n",
    "        value = qty * stocks[stock][\"price\"]\n",
    "        print(f\" - {stock}: {qty} shares @ ${stocks[stock]['price']:.2f} = ${value:.2f}\")\n",
    "    print(\"\\n📋 Transactions:\")\n",
    "    for t in portfolio[\"transactions\"]:\n",
    "        print(\"•\", t)\n",
    "\n",
    "def view_market():\n",
    "    print(\"\\n📈 Current Market Prices\")\n",
    "    for stock, data in stocks.items():\n",
    "        print(f\" - {stock}: ${data['price']:.2f}\")\n",
    "\n",
    "# ---------------------- Demo Usage ----------------------\n",
    "print(\"📢 Welcome to the Virtual Stock Market Simulator!\")\n",
    "view_market()\n",
    "update_prices()\n",
    "buy_stock(\"AAPL\", 10)\n",
    "update_prices()\n",
    "sell_stock(\"AAPL\", 5)\n",
    "view_portfolio()\n"
   ]
  }
 ],
 "metadata": {
  "kernelspec": {
   "display_name": "Python 3",
   "language": "python",
   "name": "python3"
  },
  "language_info": {
   "codemirror_mode": {
    "name": "ipython",
    "version": 3
   },
   "file_extension": ".py",
   "mimetype": "text/x-python",
   "name": "python",
   "nbconvert_exporter": "python",
   "pygments_lexer": "ipython3",
   "version": "3.12.1"
  }
 },
 "nbformat": 4,
 "nbformat_minor": 5
}
