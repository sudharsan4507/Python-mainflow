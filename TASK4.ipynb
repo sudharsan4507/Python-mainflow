{
 "cells": [
  {
   "cell_type": "markdown",
   "id": "f5c1fff9",
   "metadata": {},
   "source": [
    "# TASK 4"
   ]
  },
  {
   "cell_type": "markdown",
   "id": "637d6ba6",
   "metadata": {},
   "source": [
    "CODE 25 - FIND MISSING NUMBER"
   ]
  },
  {
   "cell_type": "code",
   "execution_count": 1,
   "id": "5997455d",
   "metadata": {},
   "outputs": [
    {
     "name": "stdout",
     "output_type": "stream",
     "text": [
      "3\n"
     ]
    }
   ],
   "source": [
    "def find_missing_number(arr):\n",
    "    n = len(arr)\n",
    "    expected_sum = (n + 1) * (n + 2) // 2  # Sum from 1 to n+1\n",
    "    actual_sum = sum(arr)\n",
    "    return expected_sum - actual_sum\n",
    "\n",
    "arr = [1, 2, 4, 5, 6]\n",
    "print(find_missing_number(arr))  # Output: 3"
   ]
  },
  {
   "cell_type": "markdown",
   "id": "35d66061",
   "metadata": {},
   "source": [
    "CODE 26 - CHECK BALANCED PARANTHESIS"
   ]
  },
  {
   "cell_type": "code",
   "execution_count": 2,
   "id": "d69b91f7",
   "metadata": {},
   "outputs": [
    {
     "name": "stdout",
     "output_type": "stream",
     "text": [
      "True\n",
      "True\n",
      "False\n",
      "False\n"
     ]
    }
   ],
   "source": [
    "def is_balanced(s):\n",
    "    stack = []\n",
    "    bracket_map = {')': '(', '}': '{', ']': '['}\n",
    "    \n",
    "    for char in s:\n",
    "        if char in bracket_map.values():  # Opening brackets\n",
    "            stack.append(char)\n",
    "        elif char in bracket_map:  # Closing brackets\n",
    "            if not stack or stack[-1] != bracket_map[char]:\n",
    "                return False\n",
    "            stack.pop()\n",
    "    \n",
    "    return not stack\n",
    "\n",
    "print(is_balanced(\"()[]{}\"))       # True\n",
    "print(is_balanced(\"([{}])\"))       # True\n",
    "print(is_balanced(\"([)]\"))         # False\n",
    "print(is_balanced(\"(((\"))          # False"
   ]
  },
  {
   "cell_type": "markdown",
   "id": "7bbc88de",
   "metadata": {},
   "source": [
    "CODE 27 - LONGEST WORD IN SENTENCE "
   ]
  },
  {
   "cell_type": "code",
   "execution_count": 3,
   "id": "340d4609",
   "metadata": {},
   "outputs": [
    {
     "name": "stdout",
     "output_type": "stream",
     "text": [
      "quick\n"
     ]
    }
   ],
   "source": [
    "def longest_word(sentence):\n",
    "    words = sentence.split()\n",
    "    if not words:\n",
    "        return \"\"\n",
    "    return max(words, key=len)\n",
    "\n",
    "print(longest_word(\"The quick brown fox jumps over the lazy dog\"))\n",
    "# Output: \"jumps\""
   ]
  },
  {
   "cell_type": "markdown",
   "id": "24897c81",
   "metadata": {},
   "source": [
    "CODE 28 - COUNT WORDS IN SENTENCE"
   ]
  },
  {
   "cell_type": "code",
   "execution_count": 4,
   "id": "892859c5",
   "metadata": {},
   "outputs": [
    {
     "name": "stdout",
     "output_type": "stream",
     "text": [
      "9\n"
     ]
    }
   ],
   "source": [
    "def count_words(sentence):\n",
    "    words = sentence.split()\n",
    "    return len(words)\n",
    "\n",
    "print(count_words(\"The quick brown fox jumps over the lazy dog\"))\n",
    "# Output: 9"
   ]
  },
  {
   "cell_type": "markdown",
   "id": "20f389b5",
   "metadata": {},
   "source": [
    "CODE 29 - CHECK PYTHAGOREN TRIPLET"
   ]
  },
  {
   "cell_type": "code",
   "execution_count": 5,
   "id": "aedd79cc",
   "metadata": {},
   "outputs": [
    {
     "name": "stdout",
     "output_type": "stream",
     "text": [
      "True\n",
      "True\n",
      "False\n"
     ]
    }
   ],
   "source": [
    "def is_pythagorean_triplet(a, b, c):\n",
    "    sides = sorted([a, b, c])  # Ensure sides[2] is the largest\n",
    "    return sides[0]**2 + sides[1]**2 == sides[2]**2\n",
    "\n",
    "print(is_pythagorean_triplet(3, 4, 5))  # True\n",
    "print(is_pythagorean_triplet(5, 12, 13))  # True\n",
    "print(is_pythagorean_triplet(1, 2, 3))  # False"
   ]
  },
  {
   "cell_type": "markdown",
   "id": "b109dd76",
   "metadata": {},
   "source": [
    "CODE 30 - BUBBLE SORT"
   ]
  },
  {
   "cell_type": "code",
   "execution_count": 6,
   "id": "0b9072b6",
   "metadata": {},
   "outputs": [
    {
     "name": "stdout",
     "output_type": "stream",
     "text": [
      "[1, 2, 4, 5, 8]\n"
     ]
    }
   ],
   "source": [
    "def bubble_sort(arr):\n",
    "    n = len(arr)\n",
    "    for i in range(n):\n",
    "        # Last i elements are already sorted, so skip them\n",
    "        for j in range(0, n - i - 1):\n",
    "            if arr[j] > arr[j + 1]:\n",
    "                # Swap if the element is greater than the next\n",
    "                arr[j], arr[j + 1] = arr[j + 1], arr[j]\n",
    "    return arr\n",
    "\n",
    "print(bubble_sort([5, 1, 4, 2, 8]))  # Output: [1, 2, 4, 5, 8]"
   ]
  },
  {
   "cell_type": "markdown",
   "id": "ec6c7a4e",
   "metadata": {},
   "source": [
    "CODE 31 - BINARY SEARCH"
   ]
  },
  {
   "cell_type": "code",
   "execution_count": 7,
   "id": "c868c517",
   "metadata": {},
   "outputs": [
    {
     "name": "stdout",
     "output_type": "stream",
     "text": [
      "3\n",
      "-1\n"
     ]
    }
   ],
   "source": [
    "def binary_search(arr, target):\n",
    "    left, right = 0, len(arr) - 1\n",
    "    \n",
    "    while left <= right:\n",
    "        mid = (left + right) // 2\n",
    "        if arr[mid] == target:\n",
    "            return mid  # Target found\n",
    "        elif arr[mid] < target:\n",
    "            left = mid + 1\n",
    "        else:\n",
    "            right = mid - 1\n",
    "            \n",
    "    return -1  # Target not found\n",
    "\n",
    "print(binary_search([1, 3, 5, 7, 9, 11], 7))  # Output: 3\n",
    "print(binary_search([1, 3, 5, 7, 9, 11], 4))  # Output: -1"
   ]
  },
  {
   "cell_type": "markdown",
   "id": "b021ab9f",
   "metadata": {},
   "source": [
    "CODE 32 - FIND SUB ARRAY WITH GIVEN SUM"
   ]
  },
  {
   "cell_type": "code",
   "execution_count": 8,
   "id": "05326e81",
   "metadata": {},
   "outputs": [
    {
     "name": "stdout",
     "output_type": "stream",
     "text": [
      "(0, 3)\n"
     ]
    }
   ],
   "source": [
    "def subarray_with_sum_any(arr, target):\n",
    "    prefix_sum = 0\n",
    "    sum_map = {0: -1}  # sum: index\n",
    "\n",
    "    for i, num in enumerate(arr):\n",
    "        prefix_sum += num\n",
    "\n",
    "        if (prefix_sum - target) in sum_map:\n",
    "            return (sum_map[prefix_sum - target] + 1, i)\n",
    "\n",
    "        sum_map[prefix_sum] = i\n",
    "\n",
    "    return -1\n",
    "\n",
    "print(subarray_with_sum_any([10, 2, -2, -20, 10], -10))  # Output: (0, 3)\n"
   ]
  },
  {
   "cell_type": "markdown",
   "id": "b7d03dac",
   "metadata": {},
   "source": [
    "LOG ANALYSIS SYSTEM"
   ]
  },
  {
   "cell_type": "code",
   "execution_count": 9,
   "id": "bd346c78",
   "metadata": {},
   "outputs": [],
   "source": [
    "from collections import Counter\n",
    "import re\n",
    "\n",
    "def analyze_log_file(filepath):\n",
    "    ip_counter = Counter()\n",
    "    url_counter = Counter()\n",
    "    code_counter = Counter()\n",
    "\n",
    "    # Regular expression for basic Apache/Nginx-style logs\n",
    "    log_pattern = re.compile(\n",
    "        r'(?P<ip>\\d+\\.\\d+\\.\\d+\\.\\d+).+?\"(?:GET|POST|PUT|DELETE|HEAD) (?P<url>\\S+) \\S+\" (?P<code>\\d{3})'\n",
    "    )\n",
    "\n",
    "    try:\n",
    "        with open(filepath, 'r') as file:\n",
    "            for line in file:\n",
    "                match = log_pattern.search(line)\n",
    "                if match:\n",
    "                    ip = match.group('ip')\n",
    "                    url = match.group('url')\n",
    "                    code = match.group('code')\n",
    "\n",
    "                    ip_counter[ip] += 1\n",
    "                    url_counter[url] += 1\n",
    "                    code_counter[code] += 1\n",
    "    except FileNotFoundError:\n",
    "        print(\"❌ File not found.\")\n",
    "        return\n",
    "\n",
    "    # Display results\n",
    "    print(\"\\n📊 Top 5 IP addresses:\")\n",
    "    for ip, count in ip_counter.most_common(5):\n",
    "        print(f\"{ip} — {count} times\")\n",
    "\n",
    "    print(\"\\n🔢 Response codes:\")\n",
    "    for code, count in code_counter.items():\n",
    "        print(f\"{code} — {count} times\")\n",
    "\n",
    "    print(\"\\n🌐 Top 5 URLs:\")\n",
    "    for url, count in url_counter.most_common(5):\n",
    "        print(f\"{url} — {count} times\")"
   ]
  },
  {
   "cell_type": "code",
   "execution_count": 10,
   "id": "ba0771d1",
   "metadata": {},
   "outputs": [
    {
     "name": "stdout",
     "output_type": "stream",
     "text": [
      "\n",
      "📊 Top 5 IP addresses:\n",
      "127.0.0.1 — 2 times\n",
      "192.168.1.10 — 1 times\n",
      "203.0.113.55 — 1 times\n",
      "10.0.0.2 — 1 times\n",
      "\n",
      "🔢 Response codes:\n",
      "200 — 3 times\n",
      "401 — 1 times\n",
      "404 — 1 times\n",
      "\n",
      "🌐 Top 5 URLs:\n",
      "/index.html — 2 times\n",
      "/login — 1 times\n",
      "/about.html — 1 times\n",
      "/contact.html — 1 times\n"
     ]
    }
   ],
   "source": [
    "analyze_log_file(\"access.log\")"
   ]
  }
 ],
 "metadata": {
  "kernelspec": {
   "display_name": "Python 3",
   "language": "python",
   "name": "python3"
  },
  "language_info": {
   "codemirror_mode": {
    "name": "ipython",
    "version": 3
   },
   "file_extension": ".py",
   "mimetype": "text/x-python",
   "name": "python",
   "nbconvert_exporter": "python",
   "pygments_lexer": "ipython3",
   "version": "3.11.4"
  }
 },
 "nbformat": 4,
 "nbformat_minor": 5
}
