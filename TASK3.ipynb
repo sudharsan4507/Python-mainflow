{
 "cells": [
  {
   "cell_type": "markdown",
   "id": "391225c8",
   "metadata": {},
   "source": [
    "# TASK 3"
   ]
  },
  {
   "cell_type": "markdown",
   "id": "1a574228",
   "metadata": {},
   "source": [
    "CODE 17 - Table of a Number"
   ]
  },
  {
   "cell_type": "code",
   "execution_count": 1,
   "id": "58617fd5",
   "metadata": {},
   "outputs": [
    {
     "name": "stdout",
     "output_type": "stream",
     "text": [
      "Multiplication table for 5\n",
      "5 x 1 = 5\n",
      "5 x 2 = 10\n",
      "5 x 3 = 15\n",
      "5 x 4 = 20\n",
      "5 x 5 = 25\n",
      "5 x 6 = 30\n",
      "5 x 7 = 35\n",
      "5 x 8 = 40\n",
      "5 x 9 = 45\n",
      "5 x 10 = 50\n"
     ]
    }
   ],
   "source": [
    "# Input: AS A EXAMPLE INPUT IS 5\n",
    "n = 5\n",
    "\n",
    "# Output: Print the multiplication table from 1 to 10\n",
    "print(f\"Multiplication table for {n}\")\n",
    "for i in range(1, 11):\n",
    "    print(f\"{n} x {i} = {n * i}\")\n"
   ]
  },
  {
   "cell_type": "markdown",
   "id": "27a686b2",
   "metadata": {},
   "source": [
    "CODE 18 - SWAP TWO NUMBERS"
   ]
  },
  {
   "cell_type": "code",
   "execution_count": 4,
   "id": "a2e4ffbc",
   "metadata": {},
   "outputs": [
    {
     "name": "stdout",
     "output_type": "stream",
     "text": [
      "5\n",
      "3\n"
     ]
    }
   ],
   "source": [
    "# AS A EXAMPLE a = 3 & b = 5\n",
    "a = 3\n",
    "b = 5\n",
    "\n",
    "a = a + b\n",
    "b = a - b\n",
    "a = a - b\n",
    "\n",
    "print(a)\n",
    "print(b)"
   ]
  },
  {
   "cell_type": "markdown",
   "id": "52d40dba",
   "metadata": {},
   "source": [
    "CODE 19 - CHECK SUBSTRING"
   ]
  },
  {
   "cell_type": "code",
   "execution_count": 8,
   "id": "91773f98",
   "metadata": {},
   "outputs": [
    {
     "name": "stdout",
     "output_type": "stream",
     "text": [
      "True\n"
     ]
    }
   ],
   "source": [
    "s1 = \"programming\"\n",
    "s2 = \"gram\"\n",
    "\n",
    "print(s2 in s1)\n"
   ]
  },
  {
   "cell_type": "markdown",
   "id": "4ed81b39",
   "metadata": {},
   "source": [
    "CODE 20 - DECIMAL TO BINARY"
   ]
  },
  {
   "cell_type": "code",
   "execution_count": 9,
   "id": "41ffa0e2",
   "metadata": {},
   "outputs": [
    {
     "name": "stdout",
     "output_type": "stream",
     "text": [
      "1010\n"
     ]
    }
   ],
   "source": [
    "n = 10\n",
    "binary = bin(n)[2:]\n",
    "print(binary)"
   ]
  },
  {
   "cell_type": "markdown",
   "id": "eb739fbb",
   "metadata": {},
   "source": [
    "CODE 21 - MATRIX ADDITION"
   ]
  },
  {
   "cell_type": "code",
   "execution_count": 10,
   "id": "fbafd85f",
   "metadata": {},
   "outputs": [
    {
     "name": "stdout",
     "output_type": "stream",
     "text": [
      "[[6, 8], [10, 12]]\n"
     ]
    }
   ],
   "source": [
    "# Define the matrices\n",
    "A = [[1, 2], [3, 4]]\n",
    "B = [[5, 6], [7, 8]]\n",
    "\n",
    "# Create a result matrix with the same dimensions\n",
    "result = []\n",
    "\n",
    "# Loop through rows\n",
    "for i in range(len(A)):\n",
    "    row = []\n",
    "    # Loop through columns\n",
    "    for j in range(len(A[0])):\n",
    "        row.append(A[i][j] + B[i][j])\n",
    "    result.append(row)\n",
    "\n",
    "# Print the result\n",
    "print(result)"
   ]
  },
  {
   "cell_type": "markdown",
   "id": "5a7d2321",
   "metadata": {},
   "source": [
    "CODE 22 - MATRIX MULTIPLICATION"
   ]
  },
  {
   "cell_type": "code",
   "execution_count": 11,
   "id": "f4c84094",
   "metadata": {},
   "outputs": [
    {
     "name": "stdout",
     "output_type": "stream",
     "text": [
      "[[19, 22], [43, 50]]\n"
     ]
    }
   ],
   "source": [
    "# Define the matrices\n",
    "A = [[1, 2],\n",
    "     [3, 4]]\n",
    "\n",
    "B = [[5, 6],\n",
    "     [7, 8]]\n",
    "\n",
    "# Result matrix will have dimensions of rows(A) x columns(B)\n",
    "result = []\n",
    "\n",
    "# Loop through rows of A\n",
    "for i in range(len(A)):\n",
    "    row = []\n",
    "    # Loop through columns of B\n",
    "    for j in range(len(B[0])):\n",
    "        total = 0\n",
    "        # Loop through columns of A / rows of B\n",
    "        for k in range(len(A[0])):\n",
    "            total += A[i][k] * B[k][j]\n",
    "        row.append(total)\n",
    "    result.append(row)\n",
    "\n",
    "# Print the result\n",
    "print(result)\n"
   ]
  },
  {
   "cell_type": "markdown",
   "id": "dd20cfa8",
   "metadata": {},
   "source": [
    "CODE 23 - FIND SECOND LARGEST"
   ]
  },
  {
   "cell_type": "code",
   "execution_count": 12,
   "id": "5449498a",
   "metadata": {},
   "outputs": [
    {
     "name": "stdout",
     "output_type": "stream",
     "text": [
      "20\n"
     ]
    }
   ],
   "source": [
    "numbers = [10, 20, 5, 8, 30]\n",
    "\n",
    "first = second = float('-inf')\n",
    "for num in numbers:\n",
    "    if num > first:\n",
    "        second = first\n",
    "        first = num\n",
    "    elif first > num > second:\n",
    "        second = num\n",
    "\n",
    "print(second)"
   ]
  },
  {
   "cell_type": "markdown",
   "id": "58feec9d",
   "metadata": {},
   "source": [
    "CODE 24 - CHECK ANAGRAM"
   ]
  },
  {
   "cell_type": "code",
   "execution_count": 13,
   "id": "8700da39",
   "metadata": {},
   "outputs": [
    {
     "name": "stdout",
     "output_type": "stream",
     "text": [
      "True\n"
     ]
    }
   ],
   "source": [
    "from collections import Counter\n",
    "\n",
    "s1 = \"listen\"\n",
    "s2 = \"silent\"\n",
    "\n",
    "if Counter(s1) == Counter(s2):\n",
    "    print(\"True\")\n",
    "else:\n",
    "    print(\"False\")\n"
   ]
  },
  {
   "cell_type": "markdown",
   "id": "dd0851f8",
   "metadata": {},
   "source": [
    "AI BASED TIC-TAC-TOE"
   ]
  },
  {
   "cell_type": "code",
   "execution_count": 3,
   "id": "70449ffa",
   "metadata": {},
   "outputs": [
    {
     "name": "stdout",
     "output_type": "stream",
     "text": [
      "\n",
      "\n",
      "|   |   |   |\n",
      "|   |   |   |\n",
      "|   |   |   |\n",
      "\n",
      "\n",
      "AI plays at position 5\n",
      "\n",
      "\n",
      "|   |   |   |\n",
      "|   | O |   |\n",
      "| X |   |   |\n",
      "\n",
      "\n",
      "AI plays at position 2\n",
      "\n",
      "\n",
      "|   | O | X |\n",
      "|   | O |   |\n",
      "| X |   |   |\n",
      "\n",
      "\n",
      "AI plays at position 8\n",
      "\n",
      "\n",
      "|   | O | X |\n",
      "|   | O |   |\n",
      "| X | O | X |\n",
      "\n",
      "\n",
      "AI wins!\n"
     ]
    }
   ],
   "source": [
    "import random\n",
    "\n",
    "# Initialize the game board\n",
    "board = [' ' for _ in range(9)]  # 3x3 grid\n",
    "current_winner = None  # Keep track of the winner\n",
    "\n",
    "# Function to print the board\n",
    "def print_board():\n",
    "    print('\\n')\n",
    "    for row in [board[i:i + 3] for i in range(0, 9, 3)]:\n",
    "        print('| ' + ' | '.join(row) + ' |')\n",
    "    print('\\n')\n",
    "\n",
    "# Function to check if the current player has won\n",
    "def check_winner(board, player):\n",
    "    win_combinations = [(0, 1, 2), (3, 4, 5), (6, 7, 8),  # rows\n",
    "                        (0, 3, 6), (1, 4, 7), (2, 5, 8),  # columns\n",
    "                        (0, 4, 8), (2, 4, 6)]  # diagonals\n",
    "    for combo in win_combinations:\n",
    "        if board[combo[0]] == board[combo[1]] == board[combo[2]] == player:\n",
    "            return True\n",
    "    return False\n",
    "\n",
    "# Function to check if the board is full (draw)\n",
    "def is_board_full(board):\n",
    "    return ' ' not in board\n",
    "\n",
    "# Minimax algorithm\n",
    "def minimax(board, depth, is_maximizing):\n",
    "    if check_winner(board, 'O'):  # AI's win\n",
    "        return 1\n",
    "    elif check_winner(board, 'X'):  # Player's win\n",
    "        return -1\n",
    "    elif is_board_full(board):  # Draw\n",
    "        return 0\n",
    "    \n",
    "    if is_maximizing:\n",
    "        best_score = -float('inf')\n",
    "        for i in range(9):\n",
    "            if board[i] == ' ':\n",
    "                board[i] = 'O'\n",
    "                score = minimax(board, depth + 1, False)\n",
    "                board[i] = ' '\n",
    "                best_score = max(score, best_score)\n",
    "        return best_score\n",
    "    else:\n",
    "        best_score = float('inf')\n",
    "        for i in range(9):\n",
    "            if board[i] == ' ':\n",
    "                board[i] = 'X'\n",
    "                score = minimax(board, depth + 1, True)\n",
    "                board[i] = ' '\n",
    "                best_score = min(score, best_score)\n",
    "        return best_score\n",
    "\n",
    "# AI's best move\n",
    "def best_move(board):\n",
    "    best_score = -float('inf')\n",
    "    move = None\n",
    "    for i in range(9):\n",
    "        if board[i] == ' ':\n",
    "            board[i] = 'O'\n",
    "            score = minimax(board, 0, False)\n",
    "            board[i] = ' '\n",
    "            if score > best_score:\n",
    "                best_score = score\n",
    "                move = i\n",
    "    return move\n",
    "\n",
    "# Function to play the game\n",
    "def play_game():\n",
    "    print_board()\n",
    "    while True:\n",
    "        # Player's move\n",
    "        player_move = int(input(\"Enter your move (1-9): \")) - 1\n",
    "        if board[player_move] != ' ':\n",
    "            print(\"Invalid move, try again.\")\n",
    "            continue\n",
    "        board[player_move] = 'X'\n",
    "        \n",
    "        # Check if the player wins\n",
    "        if check_winner(board, 'X'):\n",
    "            print_board()\n",
    "            print(\"You win!\")\n",
    "            break\n",
    "        elif is_board_full(board):\n",
    "            print_board()\n",
    "            print(\"It's a draw!\")\n",
    "            break\n",
    "        \n",
    "        # AI's move\n",
    "        ai_move = best_move(board)\n",
    "        board[ai_move] = 'O'\n",
    "        print(f\"AI plays at position {ai_move + 1}\")\n",
    "        \n",
    "        # Check if the AI wins\n",
    "        if check_winner(board, 'O'):\n",
    "            print_board()\n",
    "            print(\"AI wins!\")\n",
    "            break\n",
    "        elif is_board_full(board):\n",
    "            print_board()\n",
    "            print(\"It's a draw!\")\n",
    "            break\n",
    "\n",
    "        print_board()\n",
    "\n",
    "# Start the game\n",
    "play_game()\n"
   ]
  }
 ],
 "metadata": {
  "kernelspec": {
   "display_name": "Python 3",
   "language": "python",
   "name": "python3"
  },
  "language_info": {
   "codemirror_mode": {
    "name": "ipython",
    "version": 3
   },
   "file_extension": ".py",
   "mimetype": "text/x-python",
   "name": "python",
   "nbconvert_exporter": "python",
   "pygments_lexer": "ipython3",
   "version": "3.11.4"
  }
 },
 "nbformat": 4,
 "nbformat_minor": 5
}
