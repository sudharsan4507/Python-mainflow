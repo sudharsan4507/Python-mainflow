
{
 "cells": [
  {
   "cell_type": "markdown",
   "metadata": {},
   "source": [
    "# TASK 2"
   ]
  },
  {
   "cell_type": "markdown",
   "metadata": {},
   "source": [
    "CODE 9 - Prime number"
   ]
  },
  {
   "cell_type": "code",
   "execution_count": 1,
   "metadata": {},
   "outputs": [
    {
     "name": "stdout",
     "output_type": "stream",
     "text": [
      "True\n"
     ]
    }
   ],
   "source": [
    "import math\n",
    "\n",
    "def is_prime(n):\n",
    "    if n < 2:\n",
    "        return False\n",
    "    for i in range(2, int(math.sqrt(n)) + 1):\n",
    "        if n % i == 0:\n",
    "            return False\n",
    "    return True\n",
    "\n",
    "# Example usage\n",
    "n = 17\n",
    "print(is_prime(n))\n"
   ]
  },
  {
   "cell_type": "markdown",
   "metadata": {},
   "source": [
    "CODE 10 - SUM OF DIGITS"
   ]
  },
  {
   "cell_type": "code",
   "execution_count": 2,
   "metadata": {},
   "outputs": [
    {
     "name": "stdout",
     "output_type": "stream",
     "text": [
      "9\n"
     ]
    }
   ],
   "source": [
    "def sum_of_digits(n):\n",
    "    return sum(int(digit) for digit in str(abs(n)))\n",
    "\n",
    "# Example usage\n",
    "n = 45\n",
    "print(sum_of_digits(n))"
   ]
  },
  {
   "cell_type": "markdown",
   "metadata": {},
   "source": [
    "CODE 11 - GCD & LCM"
   ]
  },
  {
   "cell_type": "code",
   "execution_count": 3,
   "metadata": {},
   "outputs": [
    {
     "name": "stdout",
     "output_type": "stream",
     "text": [
      "GCD: 6, LCM: 36\n"
     ]
    }
   ],
   "source": [
    "import math\n",
    "\n",
    "def gcd_lcm(a, b):\n",
    "    gcd_value = math.gcd(a, b)\n",
    "    lcm_value = abs(a * b) // gcd_value  # Using LCM formula\n",
    "    return gcd_value, lcm_value\n",
    "\n",
    "# Example usage\n",
    "a, b = 12, 18  # Replace with any numbers\n",
    "gcd_val, lcm_val = gcd_lcm(a, b)\n",
    "print(f\"GCD: {gcd_val}, LCM: {lcm_val}\")"
   ]
  },
  {
   "cell_type": "markdown",
   "metadata": {},
   "source": [
    "CODE 12 - LIST REVERSAL"
   ]
  },
  {
   "cell_type": "code",
   "execution_count": 4,
   "metadata": {},
   "outputs": [
    {
     "name": "stdout",
     "output_type": "stream",
     "text": [
      "[5, 4, 3, 2, 1]\n"
     ]
    }
   ],
   "source": [
    "def reverse_list(lst):\n",
    "    left, right = 0, len(lst) - 1\n",
    "    while left < right:\n",
    "        lst[left], lst[right] = lst[right], lst[left]  # Swap elements\n",
    "        left += 1\n",
    "        right -= 1\n",
    "    return lst\n",
    "\n",
    "# Example usage\n",
    "nums = [1, 2, 3, 4, 5]\n",
    "reversed_nums = reverse_list(nums)\n",
    "print(reversed_nums)"
   ]
  },
  {
   "cell_type": "markdown",
   "metadata": {},
   "source": [
    "CODE 13 - SORTING LIST"
   ]
  },
  {
   "cell_type": "code",
   "execution_count": 5,
   "metadata": {},
   "outputs": [
    {
     "name": "stdout",
     "output_type": "stream",
     "text": [
      "[1, 2, 3, 5, 8]\n"
     ]
    }
   ],
   "source": [
    "#BUBBLE SORT\n",
    "def bubble_sort(lst):\n",
    "    n = len(lst)\n",
    "    for i in range(n):\n",
    "        for j in range(n - i - 1):\n",
    "            if lst[j] > lst[j + 1]:  # Swap if elements are out of order\n",
    "                lst[j], lst[j + 1] = lst[j + 1], lst[j]\n",
    "    return lst\n",
    "\n",
    "# Example usage\n",
    "nums = [5, 3, 8, 1, 2]\n",
    "sorted_nums = bubble_sort(nums)\n",
    "print(sorted_nums)"
   ]
  },
  {
   "cell_type": "markdown",
   "metadata": {},
   "source": [
    "CODE 14 - REMOVE DUPLICATES"
   ]
  },
  {
   "cell_type": "code",
   "execution_count": 6,
   "metadata": {},
   "outputs": [
    {
     "name": "stdout",
     "output_type": "stream",
     "text": [
      "[1, 2, 3, 4, 5]\n"
     ]
    }
   ],
   "source": [
    "def remove_duplicates(lst):\n",
    "    unique_list = []\n",
    "    for num in lst:\n",
    "        if num not in unique_list:\n",
    "            unique_list.append(num)  # Add only if not already in unique_list\n",
    "    return unique_list\n",
    "\n",
    "# Example usage\n",
    "nums = [1, 2, 2, 3, 4, 4, 5]\n",
    "unique_nums = remove_duplicates(nums)\n",
    "print(unique_nums)"
   ]
  },
  {
   "cell_type": "markdown",
   "metadata": {},
   "source": [
    "CODE 15 - STRING LENGTH"
   ]
  },
  {
   "cell_type": "code",
   "execution_count": 7,
   "metadata": {},
   "outputs": [
    {
     "name": "stdout",
     "output_type": "stream",
     "text": [
      "13\n"
     ]
    }
   ],
   "source": [
    "def string_length(s):\n",
    "    count = 0\n",
    "    for _ in s:\n",
    "        count += 1  # Increment count for each character\n",
    "    return count\n",
    "\n",
    "# Example usage\n",
    "text = \"Hello, World!\"\n",
    "length = string_length(text)\n",
    "print(length)"
   ]
  },
  {
   "cell_type": "markdown",
   "metadata": {},
   "source": [
    "CODE 16 - COUNT VOWELS & CONSONANTS"
   ]
  },
  {
   "cell_type": "code",
   "execution_count": 8,
   "metadata": {},
   "outputs": [
    {
     "name": "stdout",
     "output_type": "stream",
     "text": [
      "Vowels: 3, Consonants: 7\n"
     ]
    }
   ],
   "source": [
    "def count_vowels_consonants(s):\n",
    "    vowels = {'a', 'e', 'i', 'o', 'u', 'A', 'E', 'I', 'O', 'U'}\n",
    "    vowel_count = consonant_count = 0\n",
    "    \n",
    "    for char in s:\n",
    "        if char.isalpha():  # Check if it's a letter\n",
    "            if char in vowels:\n",
    "                vowel_count += 1\n",
    "            else:\n",
    "                consonant_count += 1\n",
    "                \n",
    "    return vowel_count, consonant_count\n",
    "\n",
    "# Example usage\n",
    "text = \"Hello, World!\"\n",
    "vowels, consonants = count_vowels_consonants(text)\n",
    "print(f\"Vowels: {vowels}, Consonants: {consonants}\")"
   ]
  },
  {
   "cell_type": "markdown",
   "metadata": {},
   "source": [
    "MAZE GENERATOR & SOLVER"
   ]
  },
  {
   "cell_type": "code",
   "execution_count": 9,
   "metadata": {},
   "outputs": [
    {
     "name": "stdout",
     "output_type": "stream",
     "text": [
      "█ █ █ █ █ █ █ █ █ █ █ █ █ █ █ \n",
      "    █           █           █ \n",
      "█   █   █ █ █   █   █ █ █   █ \n",
      "█   █       █   █   █       █ \n",
      "█   █ █ █   █ █ █   █   █   █ \n",
      "█       █       █   █   █   █ \n",
      "█ █ █   █   █   █   █   █ █ █ \n",
      "█   █   █   █       █       █ \n",
      "█   █   █ █ █ █ █ █ █ █ █   █ \n",
      "█   █   █       █           █ \n",
      "█   █   █   █   █   █ █ █   █ \n",
      "█       █   █       █       █ \n",
      "█   █ █ █   █ █ █ █ █   █ █ █ \n",
      "█           █                 \n",
      "█ █ █ █ █ █ █ █ █ █ █ █ █ * █ \n"
     ]
    }
   ],
   "source": [
    "import random\n",
    "from collections import deque\n",
    "\n",
    "# Maze dimensions\n",
    "WIDTH, HEIGHT = 15, 15\n",
    "\n",
    "# Directions (Right, Left, Down, Up)\n",
    "DIRECTIONS = [(0, 1), (0, -1), (1, 0), (-1, 0)]\n",
    "\n",
    "def create_maze(width, height):\n",
    "    \"\"\"Generate a random maze using DFS.\"\"\"\n",
    "    maze = [[1] * width for _ in range(height)]  # Initialize walls\n",
    "    start_x, start_y = 1, 1  # Starting position\n",
    "    stack = [(start_x, start_y)]\n",
    "    maze[start_y][start_x] = 0  # Mark start as open\n",
    "\n",
    "    while stack:\n",
    "        x, y = stack[-1]\n",
    "        random.shuffle(DIRECTIONS)  # Randomize movement direction\n",
    "\n",
    "        for dx, dy in DIRECTIONS:\n",
    "            nx, ny = x + 2 * dx, y + 2 * dy  # Move two steps\n",
    "            if 1 <= nx < width - 1 and 1 <= ny < height - 1 and maze[ny][nx] == 1:\n",
    "                maze[ny][nx] = 0  # Open new cell\n",
    "                maze[y + dy][x + dx] = 0  # Open wall between\n",
    "                stack.append((nx, ny))\n",
    "                break\n",
    "        else:\n",
    "            stack.pop()  # Backtrack if no valid moves\n",
    "\n",
    "    maze[1][0] = 0  # Entrance\n",
    "    maze[height - 2][width - 1] = 0  # Exit\n",
    "    return maze\n",
    "\n",
    "def solve_maze(maze):\n",
    "    \"\"\"Solve the maze using BFS.\"\"\"\n",
    "    height, width = len(maze), len(maze[0])\n",
    "    start, end = (1, 0), (height - 2, width - 1)\n",
    "    queue = deque([start])\n",
    "    parent = {start: None}\n",
    "\n",
    "    while queue:\n",
    "        x, y = queue.popleft()\n",
    "        if (x, y) == end:\n",
    "            break\n",
    "        for dx, dy in DIRECTIONS:\n",
    "            nx, ny = x + dx, y + dy\n",
    "            if 0 <= nx < width and 0 <= ny < height and maze[ny][nx] == 0 and (nx, ny) not in parent:\n",
    "                queue.append((nx, ny))\n",
    "                parent[(nx, ny)] = (x, y)\n",
    "\n",
    "    # Trace path back to start\n",
    "    path = set()\n",
    "    current = end\n",
    "    while current:\n",
    "        path.add(current)\n",
    "        current = parent.get(current)\n",
    "\n",
    "    return path\n",
    "\n",
    "def display_maze(maze, path=None):\n",
    "    \"\"\"Display the maze in a text-based format.\"\"\"\n",
    "    for y in range(len(maze)):\n",
    "        for x in range(len(maze[0])):\n",
    "            if path and (x, y) in path:\n",
    "                print(\"*\", end=\" \")  # Path marker\n",
    "            elif maze[y][x] == 1:\n",
    "                print(\"█\", end=\" \")  # Wall\n",
    "            else:\n",
    "                print(\" \", end=\" \")  # Open path\n",
    "        print()\n",
    "\n",
    "# Generate and solve the maze\n",
    "maze = create_maze(WIDTH, HEIGHT)\n",
    "solution_path = solve_maze(maze)\n",
    "\n",
    "# Display results\n",
    "display_maze(maze, solution_path)\n"
   ]
  }
 ],
 "metadata": {
  "kernelspec": {
   "display_name": "Python 3",
   "language": "python",
   "name": "python3"
  },
  "language_info": {
   "codemirror_mode": {
    "name": "ipython",
    "version": 3
   },
   "file_extension": ".py",
   "mimetype": "text/x-python",
   "name": "python",
   "nbconvert_exporter": "python",
   "pygments_lexer": "ipython3",
   "version": "3.11.4"
  }
 },
 "nbformat": 4,
 "nbformat_minor": 2
}
